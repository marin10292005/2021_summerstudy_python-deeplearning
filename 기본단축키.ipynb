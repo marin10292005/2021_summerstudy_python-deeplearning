{
  "nbformat": 4,
  "nbformat_minor": 0,
  "metadata": {
    "colab": {
      "name": "기본단축키",
      "provenance": [],
      "authorship_tag": "ABX9TyOeDEYV9xWbZzcuf2VOGlLG",
      "include_colab_link": true
    },
    "kernelspec": {
      "name": "python3",
      "display_name": "Python 3"
    },
    "language_info": {
      "name": "python"
    }
  },
  "cells": [
    {
      "cell_type": "markdown",
      "metadata": {
        "id": "view-in-github",
        "colab_type": "text"
      },
      "source": [
        "<a href=\"https://colab.research.google.com/github/marin10292005/2021_summerstudy_python-deeplearning/blob/main/%EA%B8%B0%EB%B3%B8%EB%8B%A8%EC%B6%95%ED%82%A4.ipynb\" target=\"_parent\"><img src=\"https://colab.research.google.com/assets/colab-badge.svg\" alt=\"Open In Colab\"/></a>"
      ]
    },
    {
      "cell_type": "code",
      "metadata": {
        "colab": {
          "base_uri": "https://localhost:8080/"
        },
        "id": "JCnoKBFA0rxo",
        "outputId": "61f606bb-6582-402b-bb83-6fcbba98bbdc"
      },
      "source": [
        "print('this is cell')"
      ],
      "execution_count": 1,
      "outputs": [
        {
          "output_type": "stream",
          "text": [
            "this is cell\n"
          ],
          "name": "stdout"
        }
      ]
    },
    {
      "cell_type": "code",
      "metadata": {
        "colab": {
          "base_uri": "https://localhost:8080/"
        },
        "id": "F5MESBZc1F8m",
        "outputId": "8c5a7ccd-37a5-4d9f-bbf9-c111ac4565b9"
      },
      "source": [
        "1+1"
      ],
      "execution_count": 3,
      "outputs": [
        {
          "output_type": "execute_result",
          "data": {
            "text/plain": [
              "2"
            ]
          },
          "metadata": {
            "tags": []
          },
          "execution_count": 3
        }
      ]
    },
    {
      "cell_type": "markdown",
      "metadata": {
        "id": "Xu1ahMHC1ZjK"
      },
      "source": [
        "입력"
      ]
    },
    {
      "cell_type": "code",
      "metadata": {
        "colab": {
          "base_uri": "https://localhost:8080/"
        },
        "id": "lxjTgXul14wT",
        "outputId": "68779be2-e1fa-45a0-cb23-f150ddf7c635"
      },
      "source": [
        "print('''\n",
        "ctrl + enter = 해당 셀을 실행하고 커서를 해당 셀에 두는 경우 (결과 값만 보고자 할 때)\n",
        "shift + enter = 해당 셀을 실행하고 커서를 다음 셀로 넘기는 경우 (여러가지 값을 빠르게 출력할 때)\n",
        "alt + enter = 해당 셀을 실행하고 셀을 삽입한 후 커서를 삽입한 셀로 넘기는 경우 (다음 작업 공간이 없을 때)\n",
        "''')"
      ],
      "execution_count": 4,
      "outputs": [
        {
          "output_type": "stream",
          "text": [
            "\n",
            "ctrl + enter = 해당 셀을 실행하고 커서를 해당 셀에 두는 경우 (결과 값만 보고자 할 때)\n",
            "shift + enter = 해당 셀을 실행하고 커서를 다음 셀로 넘기는 경우 (여러가지 값을 빠르게 출력할 때)\n",
            "alt + enter = 해당 셀을 실행하고 셀을 삽입한 후 커서를 삽입한 셀로 넘기는 경우 (다음 작업 공간이 없을 때)\n",
            "\n"
          ],
          "name": "stdout"
        }
      ]
    },
    {
      "cell_type": "markdown",
      "metadata": {
        "id": "tZ00ix4I3vZ9"
      },
      "source": [
        "printf('''\n",
        "(비활성화 상태 (ESC) 필수)\n",
        "ctrl + m a = 코드 셀 위에 삽입\n",
        "ctrl + m b = 코드 셀 아래 삽입\n",
        "ctrl + m d = 셀 지우기\n",
        "ctrl + m y = 코드 셀로 변경\n",
        "ctrl + m m = 마크다운 셀로 변경\n",
        "ctrl + m z = 실행 취소\n",
        "''')"
      ]
    },
    {
      "cell_type": "markdown",
      "metadata": {
        "id": "wH2LuNMV3nii"
      },
      "source": [
        "#대제목\n",
        "##중제목\n",
        "###소제목\n",
        "**진하게**"
      ]
    },
    {
      "cell_type": "markdown",
      "metadata": {
        "id": "xd5Okzcp38el"
      },
      "source": [
        ""
      ]
    }
  ]
}