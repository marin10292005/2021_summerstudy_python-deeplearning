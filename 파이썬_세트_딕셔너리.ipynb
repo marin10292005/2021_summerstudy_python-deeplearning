{
  "nbformat": 4,
  "nbformat_minor": 0,
  "metadata": {
    "colab": {
      "name": "파이썬-세트-딕셔너리",
      "provenance": [],
      "authorship_tag": "ABX9TyOrkLU+F0D7CHG2ZFgn2xTD",
      "include_colab_link": true
    },
    "kernelspec": {
      "name": "python3",
      "display_name": "Python 3"
    },
    "language_info": {
      "name": "python"
    }
  },
  "cells": [
    {
      "cell_type": "markdown",
      "metadata": {
        "id": "view-in-github",
        "colab_type": "text"
      },
      "source": [
        "<a href=\"https://colab.research.google.com/github/marin10292005/2021_summerstudy_python-deeplearning/blob/main/%ED%8C%8C%EC%9D%B4%EC%8D%AC_%EC%84%B8%ED%8A%B8_%EB%94%95%EC%85%94%EB%84%88%EB%A6%AC.ipynb\" target=\"_parent\"><img src=\"https://colab.research.google.com/assets/colab-badge.svg\" alt=\"Open In Colab\"/></a>"
      ]
    },
    {
      "cell_type": "markdown",
      "metadata": {
        "id": "jy52xYbvXcpc"
      },
      "source": [
        "##**시퀀스,집합형 자료구조**\n",
        "분류 / 타입 / 특징 / 예시\n",
        "시퀀스(sequence) / 리스트(list) / 순서가 있고,가변(mutable) / [1, 2, 3]\n",
        "시퀀스(sequence) / 튜플(tuple) / 순서가 있고, 불변(immutable) / (1, 2, 3)\n",
        "세트(set) / 세트(set) / 순서가 없고, 중복을 허용하지 않음 / {1, 2, 3}\n",
        "맵(map) / 딕셔너리(dictionary) / 순서가 없고, key/value 쌍으로 이루어짐 / {'a':'1','b':'2','c':3}\n",
        "\n",
        "###**세트(set)**\n",
        "\n",
        "- 세트는 순서가 보장 되지 않습니다.\n",
        "- 세트는 요소의 **중복을 허용하지 않습니다.**\n",
        "- 세트는 **{}**를 활용하여 생성할 수 있습니다."
      ]
    },
    {
      "cell_type": "markdown",
      "metadata": {
        "id": "SocjnO7xYyXM"
      },
      "source": [
        "**생성**"
      ]
    },
    {
      "cell_type": "code",
      "metadata": {
        "colab": {
          "base_uri": "https://localhost:8080/"
        },
        "id": "OuogDgipXBxr",
        "outputId": "37d8a86a-9d8e-4c3b-d61d-aa3ecb56d6b0"
      },
      "source": [
        "myset = set()\n",
        "myset"
      ],
      "execution_count": 1,
      "outputs": [
        {
          "output_type": "execute_result",
          "data": {
            "text/plain": [
              "set()"
            ]
          },
          "metadata": {
            "tags": []
          },
          "execution_count": 1
        }
      ]
    },
    {
      "cell_type": "code",
      "metadata": {
        "colab": {
          "base_uri": "https://localhost:8080/"
        },
        "id": "33-kzMYQY4C4",
        "outputId": "51134770-5922-456f-d5d7-192aaf6df772"
      },
      "source": [
        "myset = set([1, 1, 1, 2, 2, 2, 3, 3, 3])\n",
        "myset"
      ],
      "execution_count": 2,
      "outputs": [
        {
          "output_type": "execute_result",
          "data": {
            "text/plain": [
              "{1, 2, 3}"
            ]
          },
          "metadata": {
            "tags": []
          },
          "execution_count": 2
        }
      ]
    },
    {
      "cell_type": "code",
      "metadata": {
        "colab": {
          "base_uri": "https://localhost:8080/"
        },
        "id": "qvEI7tuCY-Jb",
        "outputId": "9abf07da-74c2-4e54-aa7d-e46c4c542c50"
      },
      "source": [
        "myset = set((1, 1, 1, 2, 3, 3, 4, 5, 5, 5))\n",
        "myset"
      ],
      "execution_count": 4,
      "outputs": [
        {
          "output_type": "execute_result",
          "data": {
            "text/plain": [
              "{1, 2, 3, 4, 5}"
            ]
          },
          "metadata": {
            "tags": []
          },
          "execution_count": 4
        }
      ]
    },
    {
      "cell_type": "code",
      "metadata": {
        "colab": {
          "base_uri": "https://localhost:8080/"
        },
        "id": "7jWVI32WZEfU",
        "outputId": "397c21ac-ba24-4ac2-9fe8-d510aa5e785d"
      },
      "source": [
        "myset = {1, 1, 1, 2, 2, 2, 3, 3, 3}\n",
        "myset"
      ],
      "execution_count": 5,
      "outputs": [
        {
          "output_type": "execute_result",
          "data": {
            "text/plain": [
              "{1, 2, 3}"
            ]
          },
          "metadata": {
            "tags": []
          },
          "execution_count": 5
        }
      ]
    },
    {
      "cell_type": "markdown",
      "metadata": {
        "id": "6UeNCoC9ZNGD"
      },
      "source": [
        "###**add() : 값 추가**\n",
        "\n",
        "- set에 요소를 추가합니다.\n",
        "\n",
        "빈 set를 생성합니다."
      ]
    },
    {
      "cell_type": "code",
      "metadata": {
        "id": "5xJ69-TyZLFy"
      },
      "source": [
        "myset = set()"
      ],
      "execution_count": 6,
      "outputs": []
    },
    {
      "cell_type": "markdown",
      "metadata": {
        "id": "V7gGXhXlZcsa"
      },
      "source": [
        "add() 로 요소를 추가합니다."
      ]
    },
    {
      "cell_type": "code",
      "metadata": {
        "id": "YtWOnpYEZbqp"
      },
      "source": [
        "myset .add(1)\n",
        "myset .add(2)\n",
        "myset .add(3)\n",
        "\n",
        "myset .add(1)\n",
        "myset .add(2)\n",
        "myset .add(3)\n",
        "\n",
        "myset .add(1)\n",
        "myset .add(2)\n",
        "myset .add(3)"
      ],
      "execution_count": 7,
      "outputs": []
    },
    {
      "cell_type": "markdown",
      "metadata": {
        "id": "2vxFQ1veb9KR"
      },
      "source": [
        "요소를 중복하여 추가하였지만, 중복을 허용하지 않는 set의 특성상 {1,2,3} 으로 **중복이 제거된 요소만 출력**됩니다."
      ]
    },
    {
      "cell_type": "code",
      "metadata": {
        "colab": {
          "base_uri": "https://localhost:8080/"
        },
        "id": "KekEz6Ddb8UH",
        "outputId": "e1375e21-7f79-4a57-973e-3f439ba3aa28"
      },
      "source": [
        "myset"
      ],
      "execution_count": 8,
      "outputs": [
        {
          "output_type": "execute_result",
          "data": {
            "text/plain": [
              "{1, 2, 3}"
            ]
          },
          "metadata": {
            "tags": []
          },
          "execution_count": 8
        }
      ]
    },
    {
      "cell_type": "markdown",
      "metadata": {
        "id": "0pcixr51cX5v"
      },
      "source": [
        "###**update() : 여러개 값 추가**\n",
        "- 여러개의 값을 한꺼번에 추가하고자 할 때는 update() 메서드를 사용합니다."
      ]
    },
    {
      "cell_type": "code",
      "metadata": {
        "id": "62VlHNGGcLiv"
      },
      "source": [
        "myset = {1,2,3}"
      ],
      "execution_count": 16,
      "outputs": []
    },
    {
      "cell_type": "markdown",
      "metadata": {
        "id": "-qG6bkbicwmR"
      },
      "source": [
        "list의 요소들을 **한꺼번에 update**"
      ]
    },
    {
      "cell_type": "code",
      "metadata": {
        "colab": {
          "base_uri": "https://localhost:8080/"
        },
        "id": "BKiT8S3ycvzW",
        "outputId": "f883d2df-c376-4633-a1ed-550d8ffbf723"
      },
      "source": [
        "myset .update([4, 5, 6])\n",
        "myset"
      ],
      "execution_count": 17,
      "outputs": [
        {
          "output_type": "execute_result",
          "data": {
            "text/plain": [
              "{1, 2, 3, 4, 5, 6}"
            ]
          },
          "metadata": {
            "tags": []
          },
          "execution_count": 17
        }
      ]
    },
    {
      "cell_type": "markdown",
      "metadata": {
        "id": "brswT1yzc9jR"
      },
      "source": [
        "tuple의 요소들을 **한꺼번에 update**"
      ]
    },
    {
      "cell_type": "code",
      "metadata": {
        "colab": {
          "base_uri": "https://localhost:8080/"
        },
        "id": "3eYlD0HUc8iZ",
        "outputId": "a19f6b6f-9584-4bb9-d280-f26c79c83835"
      },
      "source": [
        "myset.update({7, 8, 9})\n",
        "myset"
      ],
      "execution_count": 18,
      "outputs": [
        {
          "output_type": "execute_result",
          "data": {
            "text/plain": [
              "{1, 2, 3, 4, 5, 6, 7, 8, 9}"
            ]
          },
          "metadata": {
            "tags": []
          },
          "execution_count": 18
        }
      ]
    },
    {
      "cell_type": "markdown",
      "metadata": {
        "id": "P5LjkW5ldcww"
      },
      "source": [
        "set의 요소들을 **한꺼번에 update**"
      ]
    },
    {
      "cell_type": "code",
      "metadata": {
        "colab": {
          "base_uri": "https://localhost:8080/"
        },
        "id": "6mZ5CcL7dR7Z",
        "outputId": "2fe7d818-39f5-483e-dc15-04980ecca5ed"
      },
      "source": [
        "myset.update({10, 11, 12})\n",
        "myset"
      ],
      "execution_count": 19,
      "outputs": [
        {
          "output_type": "execute_result",
          "data": {
            "text/plain": [
              "{1, 2, 3, 4, 5, 6, 7, 8, 9, 10, 11, 12}"
            ]
          },
          "metadata": {
            "tags": []
          },
          "execution_count": 19
        }
      ]
    },
    {
      "cell_type": "markdown",
      "metadata": {
        "id": "bYu-1DgWdnsv"
      },
      "source": [
        "###**remove() : 값 제거**\n",
        "\n",
        "- 단일 요소를 제거합니다."
      ]
    },
    {
      "cell_type": "code",
      "metadata": {
        "id": "2HWo5ovrdmIw"
      },
      "source": [
        "myset = {1, 2, 3, 4, 5}"
      ],
      "execution_count": 20,
      "outputs": []
    },
    {
      "cell_type": "code",
      "metadata": {
        "colab": {
          "base_uri": "https://localhost:8080/"
        },
        "id": "qCrY6g00fwhy",
        "outputId": "96cfb8f3-2eb1-43a8-8470-1a45a32f6c1d"
      },
      "source": [
        "myset.remove(2)\n",
        "myset"
      ],
      "execution_count": 21,
      "outputs": [
        {
          "output_type": "execute_result",
          "data": {
            "text/plain": [
              "{1, 3, 4, 5}"
            ]
          },
          "metadata": {
            "tags": []
          },
          "execution_count": 21
        }
      ]
    },
    {
      "cell_type": "markdown",
      "metadata": {
        "id": "pKF0g-Pzf1jW"
      },
      "source": [
        "###**교집합(intersection)\n",
        "\n",
        "- 교집합은 집합 A와 B가 주어졌을 때 **공통된 요소**를 말합니다.\n",
        "- & 기호나 intersection()메서드를 활용하여 교집합을 구할 수 있습니다."
      ]
    },
    {
      "cell_type": "code",
      "metadata": {
        "id": "zXS8Sm2Af0w1"
      },
      "source": [
        "a = {1, 2, 3, 4, 5}\n",
        "b = {3, 4, 5, 6, 7}"
      ],
      "execution_count": 22,
      "outputs": []
    },
    {
      "cell_type": "code",
      "metadata": {
        "colab": {
          "base_uri": "https://localhost:8080/"
        },
        "id": "ZZnSyRhUgppZ",
        "outputId": "ec23557a-60a0-4b45-db7f-b36a436d1332"
      },
      "source": [
        "a & b"
      ],
      "execution_count": 23,
      "outputs": [
        {
          "output_type": "execute_result",
          "data": {
            "text/plain": [
              "{3, 4, 5}"
            ]
          },
          "metadata": {
            "tags": []
          },
          "execution_count": 23
        }
      ]
    },
    {
      "cell_type": "code",
      "metadata": {
        "colab": {
          "base_uri": "https://localhost:8080/"
        },
        "id": "PiIWLGCjgsFe",
        "outputId": "c5ccb575-deae-44be-fbf8-557a696bfdc0"
      },
      "source": [
        "a. intersection(b)"
      ],
      "execution_count": 24,
      "outputs": [
        {
          "output_type": "execute_result",
          "data": {
            "text/plain": [
              "{3, 4, 5}"
            ]
          },
          "metadata": {
            "tags": []
          },
          "execution_count": 24
        }
      ]
    },
    {
      "cell_type": "markdown",
      "metadata": {
        "id": "nF3FF8z7gyNY"
      },
      "source": [
        "###**합집합(union)**\n",
        "\n",
        "- 합집합은 집합 A와 B가 주어졌을 때 집합 A,B 요소 모두를 포함하는 것을 말합니다.\n",
        "- |기호나 union() 메서드를 활용하여 합집합을 구할 수 있습니다. "
      ]
    },
    {
      "cell_type": "code",
      "metadata": {
        "id": "g0Uo4_dTgu5u"
      },
      "source": [
        "a = {1, 2, 3, 4, 5}\n",
        "b = {3, 4, 5, 6, 7}"
      ],
      "execution_count": 25,
      "outputs": []
    },
    {
      "cell_type": "code",
      "metadata": {
        "colab": {
          "base_uri": "https://localhost:8080/"
        },
        "id": "cMMBK4YZkrBa",
        "outputId": "810e569f-f7aa-4c52-8e62-64278314d0e5"
      },
      "source": [
        "a | b"
      ],
      "execution_count": 26,
      "outputs": [
        {
          "output_type": "execute_result",
          "data": {
            "text/plain": [
              "{1, 2, 3, 4, 5, 6, 7}"
            ]
          },
          "metadata": {
            "tags": []
          },
          "execution_count": 26
        }
      ]
    },
    {
      "cell_type": "code",
      "metadata": {
        "colab": {
          "base_uri": "https://localhost:8080/"
        },
        "id": "dIswQ_vQksVB",
        "outputId": "caeaca2e-b473-42a0-8e23-37236851b944"
      },
      "source": [
        "a.union(b)"
      ],
      "execution_count": 27,
      "outputs": [
        {
          "output_type": "execute_result",
          "data": {
            "text/plain": [
              "{1, 2, 3, 4, 5, 6, 7}"
            ]
          },
          "metadata": {
            "tags": []
          },
          "execution_count": 27
        }
      ]
    },
    {
      "cell_type": "markdown",
      "metadata": {
        "id": "KapVCwZbkvs8"
      },
      "source": [
        "###**차집합(difference)\n",
        "\n",
        "- 두 집합에서 하나의 집합에 포함되고 다른 집합에는 포함되지 않는 모든원소의 집합.\n",
        "- -연산자를 활용하거나 difference() 메서드를 활용하여 구할 수 있습니다."
      ]
    },
    {
      "cell_type": "code",
      "metadata": {
        "id": "ptGuT44fkuXs"
      },
      "source": [
        "a = {1, 2, 3, 4, 5}\n",
        "b = {3, 4, 5, 6, 7}"
      ],
      "execution_count": 28,
      "outputs": []
    },
    {
      "cell_type": "markdown",
      "metadata": {
        "id": "mAkaT6W-lQ2T"
      },
      "source": [
        "a 집합에서 b 집합을 뺀 차집합"
      ]
    },
    {
      "cell_type": "code",
      "metadata": {
        "colab": {
          "base_uri": "https://localhost:8080/"
        },
        "id": "efg65JUqlQJ4",
        "outputId": "3590dd07-2dfe-4fcd-94ab-f94d455dde4d"
      },
      "source": [
        "a - b"
      ],
      "execution_count": 29,
      "outputs": [
        {
          "output_type": "execute_result",
          "data": {
            "text/plain": [
              "{1, 2}"
            ]
          },
          "metadata": {
            "tags": []
          },
          "execution_count": 29
        }
      ]
    },
    {
      "cell_type": "code",
      "metadata": {
        "colab": {
          "base_uri": "https://localhost:8080/"
        },
        "id": "FMUe_ApllUhs",
        "outputId": "2d4d20b3-f42b-4f9b-d38e-6acf1d96c59e"
      },
      "source": [
        "a.difference(b)"
      ],
      "execution_count": 30,
      "outputs": [
        {
          "output_type": "execute_result",
          "data": {
            "text/plain": [
              "{1, 2}"
            ]
          },
          "metadata": {
            "tags": []
          },
          "execution_count": 30
        }
      ]
    },
    {
      "cell_type": "markdown",
      "metadata": {
        "id": "vOkuyDhLlYSl"
      },
      "source": [
        "b 집합에서 a 집합을 뺀 차집합"
      ]
    },
    {
      "cell_type": "code",
      "metadata": {
        "colab": {
          "base_uri": "https://localhost:8080/"
        },
        "id": "sUShdPsflWwD",
        "outputId": "b7655741-55c0-4a40-ea0f-e487ff93d1b6"
      },
      "source": [
        "b - a"
      ],
      "execution_count": 31,
      "outputs": [
        {
          "output_type": "execute_result",
          "data": {
            "text/plain": [
              "{6, 7}"
            ]
          },
          "metadata": {
            "tags": []
          },
          "execution_count": 31
        }
      ]
    },
    {
      "cell_type": "code",
      "metadata": {
        "colab": {
          "base_uri": "https://localhost:8080/"
        },
        "id": "0xrcCONXldTN",
        "outputId": "28ebb5b5-ddfb-4069-a66a-1b9c1d737448"
      },
      "source": [
        "b.difference(a)"
      ],
      "execution_count": 32,
      "outputs": [
        {
          "output_type": "execute_result",
          "data": {
            "text/plain": [
              "{6, 7}"
            ]
          },
          "metadata": {
            "tags": []
          },
          "execution_count": 32
        }
      ]
    },
    {
      "cell_type": "markdown",
      "metadata": {
        "id": "ZfbwG2Vblg4z"
      },
      "source": [
        "###**집합의 타입 변환**\n",
        "\n",
        "###**set를 list로 변환**"
      ]
    },
    {
      "cell_type": "code",
      "metadata": {
        "id": "D7sujDZylfgU"
      },
      "source": [
        "a = {1, 2, 3, 4, 5}"
      ],
      "execution_count": 33,
      "outputs": []
    },
    {
      "cell_type": "code",
      "metadata": {
        "colab": {
          "base_uri": "https://localhost:8080/"
        },
        "id": "l2TqdPWllq5r",
        "outputId": "dab2b5ce-1ec0-40ab-84bb-81f9afb12328"
      },
      "source": [
        "type(a)"
      ],
      "execution_count": 34,
      "outputs": [
        {
          "output_type": "execute_result",
          "data": {
            "text/plain": [
              "set"
            ]
          },
          "metadata": {
            "tags": []
          },
          "execution_count": 34
        }
      ]
    },
    {
      "cell_type": "code",
      "metadata": {
        "id": "K-ChZh8clsLJ"
      },
      "source": [
        "b = list(a)"
      ],
      "execution_count": 35,
      "outputs": []
    },
    {
      "cell_type": "code",
      "metadata": {
        "colab": {
          "base_uri": "https://localhost:8080/"
        },
        "id": "BL9P1jM9lts1",
        "outputId": "1f6bfaf8-509e-4417-dce3-cb4f07083d6f"
      },
      "source": [
        "b"
      ],
      "execution_count": 36,
      "outputs": [
        {
          "output_type": "execute_result",
          "data": {
            "text/plain": [
              "[1, 2, 3, 4, 5]"
            ]
          },
          "metadata": {
            "tags": []
          },
          "execution_count": 36
        }
      ]
    },
    {
      "cell_type": "code",
      "metadata": {
        "colab": {
          "base_uri": "https://localhost:8080/"
        },
        "id": "ckIhZuGRluC_",
        "outputId": "66f61e3f-5721-4c4f-81b5-e5b895c6673b"
      },
      "source": [
        "type(b)"
      ],
      "execution_count": 37,
      "outputs": [
        {
          "output_type": "execute_result",
          "data": {
            "text/plain": [
              "list"
            ]
          },
          "metadata": {
            "tags": []
          },
          "execution_count": 37
        }
      ]
    },
    {
      "cell_type": "markdown",
      "metadata": {
        "id": "k_Swq8FAq621"
      },
      "source": [
        "###**list를 set로 변환**\n",
        "\n",
        "- 중복을 제거할 때 많이 활용합니다."
      ]
    },
    {
      "cell_type": "code",
      "metadata": {
        "id": "iw5wDSSElvGx"
      },
      "source": [
        "a = [1, 1, 1, 2, 2, 2, 3, 3, 3]"
      ],
      "execution_count": 38,
      "outputs": []
    },
    {
      "cell_type": "code",
      "metadata": {
        "colab": {
          "base_uri": "https://localhost:8080/"
        },
        "id": "7h3cXk2JrH2Z",
        "outputId": "8fba8a7f-7756-4e33-da0a-0026168b1da5"
      },
      "source": [
        "a"
      ],
      "execution_count": 39,
      "outputs": [
        {
          "output_type": "execute_result",
          "data": {
            "text/plain": [
              "[1, 1, 1, 2, 2, 2, 3, 3, 3]"
            ]
          },
          "metadata": {
            "tags": []
          },
          "execution_count": 39
        }
      ]
    },
    {
      "cell_type": "code",
      "metadata": {
        "colab": {
          "base_uri": "https://localhost:8080/"
        },
        "id": "8WGmgMG3rISE",
        "outputId": "c8f953c5-b12e-4601-fb95-613ca3d5de02"
      },
      "source": [
        "type(a)"
      ],
      "execution_count": 40,
      "outputs": [
        {
          "output_type": "execute_result",
          "data": {
            "text/plain": [
              "list"
            ]
          },
          "metadata": {
            "tags": []
          },
          "execution_count": 40
        }
      ]
    },
    {
      "cell_type": "code",
      "metadata": {
        "id": "nfBxtXeMrJbl"
      },
      "source": [
        "b = set(a)"
      ],
      "execution_count": 41,
      "outputs": []
    },
    {
      "cell_type": "code",
      "metadata": {
        "colab": {
          "base_uri": "https://localhost:8080/"
        },
        "id": "Xe73s0wtrK8z",
        "outputId": "c4b8c08e-4e22-4678-d571-50d8d90856dd"
      },
      "source": [
        "b"
      ],
      "execution_count": 42,
      "outputs": [
        {
          "output_type": "execute_result",
          "data": {
            "text/plain": [
              "{1, 2, 3}"
            ]
          },
          "metadata": {
            "tags": []
          },
          "execution_count": 42
        }
      ]
    },
    {
      "cell_type": "code",
      "metadata": {
        "colab": {
          "base_uri": "https://localhost:8080/"
        },
        "id": "fhoU0NN2rLh9",
        "outputId": "97722314-2b01-42aa-ef5c-31edbfeff53a"
      },
      "source": [
        "type(b)"
      ],
      "execution_count": 43,
      "outputs": [
        {
          "output_type": "execute_result",
          "data": {
            "text/plain": [
              "set"
            ]
          },
          "metadata": {
            "tags": []
          },
          "execution_count": 43
        }
      ]
    },
    {
      "cell_type": "markdown",
      "metadata": {
        "id": "VlKFArJhrOS1"
      },
      "source": [
        "b를 다시 list 자료형으로 변환"
      ]
    },
    {
      "cell_type": "code",
      "metadata": {
        "colab": {
          "base_uri": "https://localhost:8080/"
        },
        "id": "0_jOxGQPrSs4",
        "outputId": "8af77e6c-3906-4f35-dc5c-37633792e805"
      },
      "source": [
        "b = list(b)\n",
        "b"
      ],
      "execution_count": 44,
      "outputs": [
        {
          "output_type": "execute_result",
          "data": {
            "text/plain": [
              "[1, 2, 3]"
            ]
          },
          "metadata": {
            "tags": []
          },
          "execution_count": 44
        }
      ]
    },
    {
      "cell_type": "markdown",
      "metadata": {
        "id": "9-ck41xurVlk"
      },
      "source": [
        "###**딕셔너리(dictionary)**\n",
        "\n",
        "- 순서를 가지지 않습니다.\n",
        "- 키(key)와 값(value)의 쌍으로 이루어져 있습니다.\n",
        "- type은 dict로 표시됩니다.\n",
        "- key를 사용하여 값을 조회할 수 있습니다.\n",
        "- 딕셔너리는 **수정,삭제, 추가가 가능**합니다.\n",
        "\n",
        "**생성**"
      ]
    },
    {
      "cell_type": "code",
      "metadata": {
        "colab": {
          "base_uri": "https://localhost:8080/"
        },
        "id": "ZJ89bKZArVAX",
        "outputId": "31152ad0-1972-4d41-8b66-688a019b98df"
      },
      "source": [
        "mydict = dict()\n",
        "print(type(mydict))\n",
        "mydict"
      ],
      "execution_count": 46,
      "outputs": [
        {
          "output_type": "stream",
          "text": [
            "<class 'dict'>\n"
          ],
          "name": "stdout"
        },
        {
          "output_type": "execute_result",
          "data": {
            "text/plain": [
              "{}"
            ]
          },
          "metadata": {
            "tags": []
          },
          "execution_count": 46
        }
      ]
    },
    {
      "cell_type": "code",
      "metadata": {
        "colab": {
          "base_uri": "https://localhost:8080/"
        },
        "id": "3F0OcbCHr7vp",
        "outputId": "e5561449-49d1-4352-d5db-6af298dec2c5"
      },
      "source": [
        "mydict = {'a': 1, 'b':2, 'c':3}\n",
        "print(type(mydict))\n",
        "mydict"
      ],
      "execution_count": 47,
      "outputs": [
        {
          "output_type": "stream",
          "text": [
            "<class 'dict'>\n"
          ],
          "name": "stdout"
        },
        {
          "output_type": "execute_result",
          "data": {
            "text/plain": [
              "{'a': 1, 'b': 2, 'c': 3}"
            ]
          },
          "metadata": {
            "tags": []
          },
          "execution_count": 47
        }
      ]
    },
    {
      "cell_type": "markdown",
      "metadata": {
        "id": "fM_DLzmJswHA"
      },
      "source": [
        "딕셔너리는 여러 타입의 key를 가질 수 있습니다."
      ]
    },
    {
      "cell_type": "code",
      "metadata": {
        "colab": {
          "base_uri": "https://localhost:8080/"
        },
        "id": "SJcq62cRsLFV",
        "outputId": "4321930c-6c3b-497c-f1d0-6eec4226c423"
      },
      "source": [
        "mydict = {'a': 1, '가': 2, 100: 3, 3.14: 4, True: 5}\n",
        "mydict"
      ],
      "execution_count": 50,
      "outputs": [
        {
          "output_type": "execute_result",
          "data": {
            "text/plain": [
              "{100: 3, 3.14: 4, True: 5, 'a': 1, '가': 2}"
            ]
          },
          "metadata": {
            "tags": []
          },
          "execution_count": 50
        }
      ]
    },
    {
      "cell_type": "markdown",
      "metadata": {
        "id": "Z-90GB9ktIv_"
      },
      "source": [
        "###**값 조회**\n",
        "- key 값으로 값을 조회할 수 있습니다."
      ]
    },
    {
      "cell_type": "code",
      "metadata": {
        "colab": {
          "base_uri": "https://localhost:8080/"
        },
        "id": "NxCpJukas_ht",
        "outputId": "bf2ac462-2c20-49ac-924b-87132bb2d77e"
      },
      "source": [
        "mydict = {'a': 1, '가':2, 100: 3, 3.14: 4, True: 5}\n",
        "mydict"
      ],
      "execution_count": 51,
      "outputs": [
        {
          "output_type": "execute_result",
          "data": {
            "text/plain": [
              "{100: 3, 3.14: 4, True: 5, 'a': 1, '가': 2}"
            ]
          },
          "metadata": {
            "tags": []
          },
          "execution_count": 51
        }
      ]
    },
    {
      "cell_type": "markdown",
      "metadata": {
        "id": "CbSzqVe0tdPM"
      },
      "source": [
        "key를 지정하여 값을 조회할 수 있습니다."
      ]
    },
    {
      "cell_type": "code",
      "metadata": {
        "colab": {
          "base_uri": "https://localhost:8080/"
        },
        "id": "7zzIF-Aftb6P",
        "outputId": "4b4f7ed7-9b1d-4cb2-d7f7-02ca0630ec21"
      },
      "source": [
        "mydict['a']"
      ],
      "execution_count": 52,
      "outputs": [
        {
          "output_type": "execute_result",
          "data": {
            "text/plain": [
              "1"
            ]
          },
          "metadata": {
            "tags": []
          },
          "execution_count": 52
        }
      ]
    },
    {
      "cell_type": "markdown",
      "metadata": {
        "id": "9-3XCua0tjtC"
      },
      "source": [
        "key가 없는 경우 Error가 발생합니다."
      ]
    },
    {
      "cell_type": "code",
      "metadata": {
        "colab": {
          "base_uri": "https://localhost:8080/",
          "height": 172
        },
        "id": "0trgpvBmtjB6",
        "outputId": "fd383905-6b93-472b-fca4-686c3e1b3f5c"
      },
      "source": [
        "mydict['b']"
      ],
      "execution_count": 53,
      "outputs": [
        {
          "output_type": "error",
          "ename": "KeyError",
          "evalue": "ignored",
          "traceback": [
            "\u001b[0;31m---------------------------------------------------------------------------\u001b[0m",
            "\u001b[0;31mKeyError\u001b[0m                                  Traceback (most recent call last)",
            "\u001b[0;32m<ipython-input-53-a8dfdc4bddd9>\u001b[0m in \u001b[0;36m<module>\u001b[0;34m()\u001b[0m\n\u001b[0;32m----> 1\u001b[0;31m \u001b[0mmydict\u001b[0m\u001b[0;34m[\u001b[0m\u001b[0;34m'b'\u001b[0m\u001b[0;34m]\u001b[0m\u001b[0;34m\u001b[0m\u001b[0;34m\u001b[0m\u001b[0m\n\u001b[0m",
            "\u001b[0;31mKeyError\u001b[0m: 'b'"
          ]
        }
      ]
    },
    {
      "cell_type": "code",
      "metadata": {
        "colab": {
          "base_uri": "https://localhost:8080/"
        },
        "id": "OkSrPFL2tsyh",
        "outputId": "7e0f93b1-c7ce-45db-863c-325b5ca27db9"
      },
      "source": [
        "mydict.get('a')"
      ],
      "execution_count": 54,
      "outputs": [
        {
          "output_type": "execute_result",
          "data": {
            "text/plain": [
              "1"
            ]
          },
          "metadata": {
            "tags": []
          },
          "execution_count": 54
        }
      ]
    },
    {
      "cell_type": "markdown",
      "metadata": {
        "id": "fent8ee4txOb"
      },
      "source": [
        "get()을 사용하면 key가 없는 경우라도 Error가 발생하지 않습니다. 단지 None이 반환됩니다."
      ]
    },
    {
      "cell_type": "code",
      "metadata": {
        "id": "YUhgi-VVtwoZ"
      },
      "source": [
        "mydict.get('b')"
      ],
      "execution_count": 55,
      "outputs": []
    },
    {
      "cell_type": "markdown",
      "metadata": {
        "id": "L2013_A6t_WC"
      },
      "source": [
        "###**keys(): 모든 key 조회**"
      ]
    },
    {
      "cell_type": "code",
      "metadata": {
        "colab": {
          "base_uri": "https://localhost:8080/"
        },
        "id": "AAMdq9Uht-LZ",
        "outputId": "5508d2e8-7fd7-44b2-b457-91b8cf61a9ee"
      },
      "source": [
        "mydict = {'a' : 100, 'b' : 200, 'c' : 300, 'd' : 400, 'e' : 500}\n",
        "mydict"
      ],
      "execution_count": 57,
      "outputs": [
        {
          "output_type": "execute_result",
          "data": {
            "text/plain": [
              "{'a': 100, 'b': 200, 'c': 300, 'd': 400, 'e': 500}"
            ]
          },
          "metadata": {
            "tags": []
          },
          "execution_count": 57
        }
      ]
    },
    {
      "cell_type": "code",
      "metadata": {
        "colab": {
          "base_uri": "https://localhost:8080/"
        },
        "id": "VAo0III6uRwX",
        "outputId": "acf1b510-2c11-4e74-feb7-cc07098f0585"
      },
      "source": [
        "mydict.keys()"
      ],
      "execution_count": 59,
      "outputs": [
        {
          "output_type": "execute_result",
          "data": {
            "text/plain": [
              "dict_keys(['a', 'b', 'c', 'd', 'e'])"
            ]
          },
          "metadata": {
            "tags": []
          },
          "execution_count": 59
        }
      ]
    },
    {
      "cell_type": "markdown",
      "metadata": {
        "id": "Ii5Gxjj8uXOF"
      },
      "source": [
        "**[참고]** dict_keys\n",
        "\n",
        "- dict_keys는 리스트(list)가 아닙니다.\n",
        "- 객체(object)로 생성되는데, 이를 list로 변경하기 위해서는 list()로 타입 변환을 하면 됩니다."
      ]
    },
    {
      "cell_type": "code",
      "metadata": {
        "colab": {
          "base_uri": "https://localhost:8080/"
        },
        "id": "YYiADcV7uVLL",
        "outputId": "ff11511c-2fd1-4f78-b04f-a34fe1b11a59"
      },
      "source": [
        "list(mydict.keys())"
      ],
      "execution_count": 60,
      "outputs": [
        {
          "output_type": "execute_result",
          "data": {
            "text/plain": [
              "['a', 'b', 'c', 'd', 'e']"
            ]
          },
          "metadata": {
            "tags": []
          },
          "execution_count": 60
        }
      ]
    },
    {
      "cell_type": "markdown",
      "metadata": {
        "id": "lje0F--0uwBy"
      },
      "source": [
        "###**values():모든 value 조회**"
      ]
    },
    {
      "cell_type": "code",
      "metadata": {
        "colab": {
          "base_uri": "https://localhost:8080/"
        },
        "id": "bHfTQXJ7uvSm",
        "outputId": "e69ac232-4cea-4029-eb13-465352f97185"
      },
      "source": [
        "mydict.values()"
      ],
      "execution_count": 61,
      "outputs": [
        {
          "output_type": "execute_result",
          "data": {
            "text/plain": [
              "dict_values([100, 200, 300, 400, 500])"
            ]
          },
          "metadata": {
            "tags": []
          },
          "execution_count": 61
        }
      ]
    },
    {
      "cell_type": "markdown",
      "metadata": {
        "id": "1omo_109u81a"
      },
      "source": [
        "###**items():모든 key, value 조회**\n",
        "- key, value가 튜플로 묶여서 조회됩니다."
      ]
    },
    {
      "cell_type": "code",
      "metadata": {
        "colab": {
          "base_uri": "https://localhost:8080/"
        },
        "id": "QCebMsYHu7-2",
        "outputId": "2327b5af-1826-44bc-81d9-ab1ae7c6aa26"
      },
      "source": [
        "mydict.items()"
      ],
      "execution_count": 62,
      "outputs": [
        {
          "output_type": "execute_result",
          "data": {
            "text/plain": [
              "dict_items([('a', 100), ('b', 200), ('c', 300), ('d', 400), ('e', 500)])"
            ]
          },
          "metadata": {
            "tags": []
          },
          "execution_count": 62
        }
      ]
    },
    {
      "cell_type": "code",
      "metadata": {
        "colab": {
          "base_uri": "https://localhost:8080/"
        },
        "id": "ppthN0MfvMwN",
        "outputId": "45185354-649c-4c23-c8b6-4bb205e01935"
      },
      "source": [
        "list(mydict.items())"
      ],
      "execution_count": 63,
      "outputs": [
        {
          "output_type": "execute_result",
          "data": {
            "text/plain": [
              "[('a', 100), ('b', 200), ('c', 300), ('d', 400), ('e', 500)]"
            ]
          },
          "metadata": {
            "tags": []
          },
          "execution_count": 63
        }
      ]
    },
    {
      "cell_type": "markdown",
      "metadata": {
        "id": "bOe77j1OvQlN"
      },
      "source": [
        "###**key 값의 존재 유무 확인**"
      ]
    },
    {
      "cell_type": "code",
      "metadata": {
        "colab": {
          "base_uri": "https://localhost:8080/"
        },
        "id": "QP1zFFEzvPd7",
        "outputId": "8627eee4-49bc-4af2-866b-bb9a5c009ac8"
      },
      "source": [
        "'a' in mydict"
      ],
      "execution_count": 64,
      "outputs": [
        {
          "output_type": "execute_result",
          "data": {
            "text/plain": [
              "True"
            ]
          },
          "metadata": {
            "tags": []
          },
          "execution_count": 64
        }
      ]
    },
    {
      "cell_type": "code",
      "metadata": {
        "colab": {
          "base_uri": "https://localhost:8080/"
        },
        "id": "CbXXHQGBvWH0",
        "outputId": "80f0ddd4-71aa-4f7c-8e3c-1662953b1084"
      },
      "source": [
        "'f' in mydict"
      ],
      "execution_count": 65,
      "outputs": [
        {
          "output_type": "execute_result",
          "data": {
            "text/plain": [
              "False"
            ]
          },
          "metadata": {
            "tags": []
          },
          "execution_count": 65
        }
      ]
    },
    {
      "cell_type": "markdown",
      "metadata": {
        "id": "iWdJ1bsBvY0p"
      },
      "source": [
        "###**값을 추가하기**\n",
        "\n",
        "- 새로운 key에 값을 대입하여 추가"
      ]
    },
    {
      "cell_type": "code",
      "metadata": {
        "colab": {
          "base_uri": "https://localhost:8080/"
        },
        "id": "IF9zsy6jvYSu",
        "outputId": "e096c2c7-242e-4e8a-afab-fd06ca836b4c"
      },
      "source": [
        "mydict = dict()\n",
        "mydict"
      ],
      "execution_count": 66,
      "outputs": [
        {
          "output_type": "execute_result",
          "data": {
            "text/plain": [
              "{}"
            ]
          },
          "metadata": {
            "tags": []
          },
          "execution_count": 66
        }
      ]
    },
    {
      "cell_type": "code",
      "metadata": {
        "colab": {
          "base_uri": "https://localhost:8080/"
        },
        "id": "n64-WlAkvic_",
        "outputId": "1bd70d9c-9042-4f44-ed4e-22963cda9937"
      },
      "source": [
        "mydict['apple'] = 123\n",
        "mydict['apple']"
      ],
      "execution_count": 67,
      "outputs": [
        {
          "output_type": "execute_result",
          "data": {
            "text/plain": [
              "123"
            ]
          },
          "metadata": {
            "tags": []
          },
          "execution_count": 67
        }
      ]
    },
    {
      "cell_type": "code",
      "metadata": {
        "colab": {
          "base_uri": "https://localhost:8080/"
        },
        "id": "RQq6P_m3vpGK",
        "outputId": "cfaf502e-0fc0-4cb2-d02f-02835f7dbd30"
      },
      "source": [
        "mydict[0] = 2\n",
        "mydict[0]"
      ],
      "execution_count": 68,
      "outputs": [
        {
          "output_type": "execute_result",
          "data": {
            "text/plain": [
              "2"
            ]
          },
          "metadata": {
            "tags": []
          },
          "execution_count": 68
        }
      ]
    },
    {
      "cell_type": "markdown",
      "metadata": {
        "id": "7oKkylgevtpp"
      },
      "source": [
        "###**update():다중 업데이트**\n",
        "- 값을 한꺼번에 업데이트 합니다."
      ]
    },
    {
      "cell_type": "code",
      "metadata": {
        "colab": {
          "base_uri": "https://localhost:8080/"
        },
        "id": "EWpDSOajvsje",
        "outputId": "6a601c38-5ca3-4617-daeb-b9bac058b007"
      },
      "source": [
        "mydict = {'파인애플':1500, '망고':3500, '배':1000}\n",
        "mydict"
      ],
      "execution_count": 70,
      "outputs": [
        {
          "output_type": "execute_result",
          "data": {
            "text/plain": [
              "{'망고': 3500, '배': 1000, '파인애플': 1500}"
            ]
          },
          "metadata": {
            "tags": []
          },
          "execution_count": 70
        }
      ]
    },
    {
      "cell_type": "code",
      "metadata": {
        "id": "_3sDfu_Yv8uf"
      },
      "source": [
        "fruit = {\n",
        "    '사과' : 2000,\n",
        "    '딸기' : 3000,\n",
        "    '수박' : 5000,\n",
        "}"
      ],
      "execution_count": 71,
      "outputs": []
    },
    {
      "cell_type": "code",
      "metadata": {
        "colab": {
          "base_uri": "https://localhost:8080/"
        },
        "id": "HiJrwEo4wJL1",
        "outputId": "2c1ebbd7-cbb5-437a-9596-9edbb8c3cacf"
      },
      "source": [
        "mydict.update(fruit)\n",
        "mydict"
      ],
      "execution_count": 72,
      "outputs": [
        {
          "output_type": "execute_result",
          "data": {
            "text/plain": [
              "{'딸기': 3000, '망고': 3500, '배': 1000, '사과': 2000, '수박': 5000, '파인애플': 1500}"
            ]
          },
          "metadata": {
            "tags": []
          },
          "execution_count": 72
        }
      ]
    },
    {
      "cell_type": "markdown",
      "metadata": {
        "id": "e_i8gk2rwO4U"
      },
      "source": [
        "###**값 변경**\n",
        "- key 값에 새로운 값(value)를 대입하여 값을 변경할 수 있습니다."
      ]
    },
    {
      "cell_type": "code",
      "metadata": {
        "colab": {
          "base_uri": "https://localhost:8080/"
        },
        "id": "Vpkl2tDiwN9p",
        "outputId": "4699fa8b-618c-4a2f-8927-a8eda1ac06d6"
      },
      "source": [
        "mydict = {'a':100, 'b': 200, 'c': 300, 'd':400, 'e':500}\n",
        "mydict"
      ],
      "execution_count": 73,
      "outputs": [
        {
          "output_type": "execute_result",
          "data": {
            "text/plain": [
              "{'a': 100, 'b': 200, 'c': 300, 'd': 400, 'e': 500}"
            ]
          },
          "metadata": {
            "tags": []
          },
          "execution_count": 73
        }
      ]
    },
    {
      "cell_type": "code",
      "metadata": {
        "id": "A2m0M2NWwiCX"
      },
      "source": [
        "mydict['a'] = 900"
      ],
      "execution_count": 74,
      "outputs": []
    },
    {
      "cell_type": "code",
      "metadata": {
        "colab": {
          "base_uri": "https://localhost:8080/"
        },
        "id": "lUvzvOXowk_b",
        "outputId": "4293f6f1-0f63-4213-b816-67a80c57dc77"
      },
      "source": [
        "mydict"
      ],
      "execution_count": 75,
      "outputs": [
        {
          "output_type": "execute_result",
          "data": {
            "text/plain": [
              "{'a': 900, 'b': 200, 'c': 300, 'd': 400, 'e': 500}"
            ]
          },
          "metadata": {
            "tags": []
          },
          "execution_count": 75
        }
      ]
    },
    {
      "cell_type": "markdown",
      "metadata": {
        "id": "sfyuZbCywmdh"
      },
      "source": [
        "###**제거하기/key 제거**"
      ]
    },
    {
      "cell_type": "code",
      "metadata": {
        "colab": {
          "base_uri": "https://localhost:8080/"
        },
        "id": "hqz5hMHWwlxm",
        "outputId": "77c1941c-a89d-4585-b53a-04fc00966eb7"
      },
      "source": [
        "mydict = {'a' : 100, 'b' : 200, 'c' : 300, 'd' : 400, 'e' : 500}\n",
        "mydict"
      ],
      "execution_count": 77,
      "outputs": [
        {
          "output_type": "execute_result",
          "data": {
            "text/plain": [
              "{'a': 100, 'b': 200, 'c': 300, 'd': 400, 'e': 500}"
            ]
          },
          "metadata": {
            "tags": []
          },
          "execution_count": 77
        }
      ]
    },
    {
      "cell_type": "markdown",
      "metadata": {
        "id": "DWg7m-TBw5dM"
      },
      "source": [
        "del 값을 제거할 수 있습니다.\n",
        "\n",
        "del에 딕셔너리 key를 지정합니다."
      ]
    },
    {
      "cell_type": "code",
      "metadata": {
        "id": "tnUTDJsEw3k0"
      },
      "source": [
        "del mydict['a']"
      ],
      "execution_count": 78,
      "outputs": []
    },
    {
      "cell_type": "code",
      "metadata": {
        "colab": {
          "base_uri": "https://localhost:8080/"
        },
        "id": "Eo0njeQ0xB-D",
        "outputId": "f19137d2-c477-45d3-97f1-82e0bc52717b"
      },
      "source": [
        "mydict"
      ],
      "execution_count": 79,
      "outputs": [
        {
          "output_type": "execute_result",
          "data": {
            "text/plain": [
              "{'b': 200, 'c': 300, 'd': 400, 'e': 500}"
            ]
          },
          "metadata": {
            "tags": []
          },
          "execution_count": 79
        }
      ]
    },
    {
      "cell_type": "markdown",
      "metadata": {
        "id": "afvHgOjmxETI"
      },
      "source": [
        "pop()에 key를 지정하여 값을 제거할 수 있습니다.\n",
        "\n",
        "제거되는 값의 value를 반환합니다."
      ]
    },
    {
      "cell_type": "code",
      "metadata": {
        "colab": {
          "base_uri": "https://localhost:8080/"
        },
        "id": "hMF-EP94xDcx",
        "outputId": "0c22ce4b-5a60-449d-c686-1ff8ceff885d"
      },
      "source": [
        "mydict.pop('b')"
      ],
      "execution_count": 80,
      "outputs": [
        {
          "output_type": "execute_result",
          "data": {
            "text/plain": [
              "200"
            ]
          },
          "metadata": {
            "tags": []
          },
          "execution_count": 80
        }
      ]
    },
    {
      "cell_type": "code",
      "metadata": {
        "colab": {
          "base_uri": "https://localhost:8080/"
        },
        "id": "ewy1l5-TxRL4",
        "outputId": "07b0db74-e5d5-4b96-8949-9ff3b89bed8e"
      },
      "source": [
        "mydict"
      ],
      "execution_count": 81,
      "outputs": [
        {
          "output_type": "execute_result",
          "data": {
            "text/plain": [
              "{'c': 300, 'd': 400, 'e': 500}"
            ]
          },
          "metadata": {
            "tags": []
          },
          "execution_count": 81
        }
      ]
    },
    {
      "cell_type": "markdown",
      "metadata": {
        "id": "cfuveYTFxSuw"
      },
      "source": [
        "###**len() : 요소의 개수 파악**"
      ]
    },
    {
      "cell_type": "code",
      "metadata": {
        "colab": {
          "base_uri": "https://localhost:8080/"
        },
        "id": "VMPfWinkxSJf",
        "outputId": "70c58467-6e6c-4fd8-c55b-f8aeb32fc058"
      },
      "source": [
        "len(mydict)"
      ],
      "execution_count": 82,
      "outputs": [
        {
          "output_type": "execute_result",
          "data": {
            "text/plain": [
              "3"
            ]
          },
          "metadata": {
            "tags": []
          },
          "execution_count": 82
        }
      ]
    },
    {
      "cell_type": "markdown",
      "metadata": {
        "id": "2Odj-CTGxaZM"
      },
      "source": [
        "###**clear() - 전부 삭제**"
      ]
    },
    {
      "cell_type": "code",
      "metadata": {
        "colab": {
          "base_uri": "https://localhost:8080/"
        },
        "id": "AGVkz72fxZQn",
        "outputId": "cdfafcfe-a399-487e-d546-078bd517d2c7"
      },
      "source": [
        "mtdict = {'a' : 100, 'b' : 200, 'c' : 300, 'd' : 400, 'e' : 500}\n",
        "mydict"
      ],
      "execution_count": 83,
      "outputs": [
        {
          "output_type": "execute_result",
          "data": {
            "text/plain": [
              "{'c': 300, 'd': 400, 'e': 500}"
            ]
          },
          "metadata": {
            "tags": []
          },
          "execution_count": 83
        }
      ]
    },
    {
      "cell_type": "code",
      "metadata": {
        "id": "oBQc3Spgxq3H"
      },
      "source": [
        "mydict.clear()"
      ],
      "execution_count": 84,
      "outputs": []
    },
    {
      "cell_type": "code",
      "metadata": {
        "colab": {
          "base_uri": "https://localhost:8080/"
        },
        "id": "34feSDuWxtiH",
        "outputId": "cf864e20-4de3-4068-df91-77980d5dbb84"
      },
      "source": [
        "mydict"
      ],
      "execution_count": 85,
      "outputs": [
        {
          "output_type": "execute_result",
          "data": {
            "text/plain": [
              "{}"
            ]
          },
          "metadata": {
            "tags": []
          },
          "execution_count": 85
        }
      ]
    }
  ]
}